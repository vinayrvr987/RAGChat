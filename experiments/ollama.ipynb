{
 "cells": [
  {
   "cell_type": "markdown",
   "id": "5024c75d",
   "metadata": {},
   "source": [
    "## Experiment on OLLAMA"
   ]
  },
  {
   "cell_type": "code",
   "execution_count": null,
   "id": "16a5ac56",
   "metadata": {
    "vscode": {
     "languageId": "plaintext"
    }
   },
   "outputs": [],
   "source": []
  }
 ],
 "metadata": {
  "language_info": {
   "name": "python"
  }
 },
 "nbformat": 4,
 "nbformat_minor": 5
}
